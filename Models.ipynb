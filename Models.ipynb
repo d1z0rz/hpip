{
 "cells": [
  {
   "cell_type": "markdown",
   "metadata": {},
   "source": [
    "## Modeling part\n",
    "From Correlation and correlation visulalosation part, features has been recieved and now it is time to train many models and try to predict house price index\n",
    "\n",
    "First of all, all needed categories has to be defined and recieved it's values from cleaned dataset.\n",
    "Of cource, all imports have to be defined at first."
   ]
  },
  {
   "cell_type": "markdown",
   "metadata": {},
   "source": [
    "### Imports"
   ]
  },
  {
   "cell_type": "code",
   "execution_count": 24,
   "metadata": {},
   "outputs": [],
   "source": [
    "import pandas as pd\n",
    "from sklearn.model_selection import train_test_split\n",
    "from sklearn.naive_bayes import GaussianNB\n",
    "import numpy as np\n",
    "from sklearn.metrics import accuracy_score\n",
    "from sklearn.ensemble import RandomForestClassifier\n",
    "import matplotlib.pyplot as plt"
   ]
  },
  {
   "cell_type": "markdown",
   "metadata": {},
   "source": [
    "### Categories"
   ]
  },
  {
   "cell_type": "code",
   "execution_count": 2,
   "metadata": {},
   "outputs": [],
   "source": [
    "categories = ['house_price_index', 'population_by_education', 'resource_productivity',\n",
    "       'taxes_revenues', 'income', 'e_tech', 'human_science', 'crime_area',\n",
    "       'broadband_households', 'unemployment']"
   ]
  },
  {
   "cell_type": "markdown",
   "metadata": {},
   "source": [
    "### File reading"
   ]
  },
  {
   "cell_type": "code",
   "execution_count": 3,
   "metadata": {},
   "outputs": [],
   "source": [
    "#file reading\n",
    "data = pd.read_csv('data/summed.csv')\n",
    "#dataset with only nessesary values nad remove empty rows \n",
    "cat_data = data[categories].dropna()"
   ]
  },
  {
   "cell_type": "markdown",
   "metadata": {},
   "source": [
    "Next step is divide cleaned data set to test and train datasets"
   ]
  },
  {
   "cell_type": "code",
   "execution_count": 4,
   "metadata": {},
   "outputs": [],
   "source": [
    "X = cat_data.drop(['house_price_index'], axis=1)"
   ]
  },
  {
   "cell_type": "code",
   "execution_count": 5,
   "metadata": {},
   "outputs": [],
   "source": [
    "y = cat_data['house_price_index']\n",
    "X = cat_data.drop(['house_price_index'], axis=1)\n"
   ]
  },
  {
   "cell_type": "markdown",
   "metadata": {},
   "source": [
    "### Models\n",
    "#### Model 1\n",
    "First model is GaussianNB with integer numbers of categorical indexes and house price index.\n",
    "It was choosen by ability to work with negative integers\n",
    "\n",
    "Validation data is **10%**"
   ]
  },
  {
   "cell_type": "code",
   "execution_count": 6,
   "metadata": {},
   "outputs": [
    {
     "data": {
      "text/plain": [
       "GaussianNB()"
      ]
     },
     "execution_count": 6,
     "metadata": {},
     "output_type": "execute_result"
    }
   ],
   "source": [
    "X_train_1, X_test_1, y_train_1, y_test_1 = train_test_split(X,np.asarray(y).astype('int'), test_size=0.10, random_state=1)\n",
    "model1 = GaussianNB()\n",
    "model1.fit(X_train_1, y_train_1)"
   ]
  },
  {
   "cell_type": "code",
   "execution_count": 23,
   "metadata": {},
   "outputs": [],
   "source": [
    "model_s1 = accuracy_score(model1.predict(X_test_1),np.asarray(y_test_1).astype('int'))"
   ]
  },
  {
   "cell_type": "markdown",
   "metadata": {},
   "source": [
    "The result of first model is very bad, but it was expected because dataset is to small for number prediction."
   ]
  },
  {
   "cell_type": "markdown",
   "metadata": {},
   "source": [
    "#### Model 2\n",
    "Second model is GaussianNB, but at this time all values are integers (categories and house price index).\n",
    "\n",
    "Validation data is **10%**"
   ]
  },
  {
   "cell_type": "code",
   "execution_count": 8,
   "metadata": {},
   "outputs": [
    {
     "data": {
      "text/plain": [
       "GaussianNB()"
      ]
     },
     "execution_count": 8,
     "metadata": {},
     "output_type": "execute_result"
    }
   ],
   "source": [
    "X_train_2, X_test_2, y_train_2, y_test_2 =  train_test_split(X.astype('int'),np.asarray(y).astype('int'), test_size=0.10, random_state=1)\n",
    "model2 = GaussianNB()\n",
    "model2.fit(X_train_2, y_train_2)"
   ]
  },
  {
   "cell_type": "code",
   "execution_count": 22,
   "metadata": {},
   "outputs": [],
   "source": [
    "model_s2 = accuracy_score(model2.predict(X_test_2),np.asarray(y_test_2).astype('int'))"
   ]
  },
  {
   "cell_type": "markdown",
   "metadata": {},
   "source": [
    "The result of model 2 is better than result of model 1, but it also bad"
   ]
  },
  {
   "cell_type": "markdown",
   "metadata": {},
   "source": [
    "#### Model 3\n",
    "Third model is Random Forest Classifier. Here is used categorical house_price_index where -inf to 0 is **0**, from 0 to 10 is **1** and from 10 to inf is **2**. Also, categories are integer numbers as in Model 2.\n",
    "\n",
    "So model predicts range, where could be house_price_index value. \n",
    "\n",
    "Validation data is **20%**"
   ]
  },
  {
   "cell_type": "code",
   "execution_count": 10,
   "metadata": {},
   "outputs": [],
   "source": [
    "y_2 = y.to_frame()\n",
    "\n",
    "c = pd.cut(\n",
    "    y_2.stack(),\n",
    "    [-np.inf, 0, 10, np.inf],\n",
    "    labels=[0, 1, 2]\n",
    ")\n",
    "y_2 = y_2.join(c.unstack().add_suffix('_cat')).drop(['house_price_index'], axis=1).values.ravel()"
   ]
  },
  {
   "cell_type": "code",
   "execution_count": 11,
   "metadata": {},
   "outputs": [
    {
     "data": {
      "text/plain": [
       "array([1, 0, 1, 0, 1, 1, 0, 0, 1, 1, 1, 0, 2, 1, 1, 0, 0, 0, 1, 1, 0, 0,\n",
       "       1, 0, 1, 1, 0, 1, 0, 0, 1, 1, 0, 0, 0, 0, 0, 0, 1, 0, 1, 0, 1, 0,\n",
       "       1, 0, 0, 0, 0, 0, 1, 1, 1, 1, 0, 0, 1, 2, 1, 0, 0, 0, 0, 0, 1, 1,\n",
       "       1, 0, 0, 0, 1, 0, 0, 0, 0, 1, 1, 1, 1, 0, 1, 1, 1, 1, 2, 1, 0, 0,\n",
       "       0, 0, 1, 1, 1, 1, 1, 1, 1, 1, 1, 0, 0, 1, 0, 1, 1, 1, 1, 1, 1, 1,\n",
       "       1, 2, 0, 0, 0, 0, 0, 1, 1, 2, 1, 1, 1, 1, 1, 1, 1, 1, 0, 2, 1, 1,\n",
       "       1, 1, 1, 1, 1, 1, 1, 1, 1, 1, 1, 1, 1, 2, 1, 1, 1, 1, 1, 1, 1, 1,\n",
       "       1, 1, 1, 1, 1, 2, 1, 1, 1, 2, 1, 1, 1, 0, 1, 1, 1, 2, 1, 1, 1, 1,\n",
       "       1, 1, 1, 1, 1, 1, 1])"
      ]
     },
     "execution_count": 11,
     "metadata": {},
     "output_type": "execute_result"
    }
   ],
   "source": [
    "y_2"
   ]
  },
  {
   "cell_type": "code",
   "execution_count": 12,
   "metadata": {},
   "outputs": [
    {
     "data": {
      "text/plain": [
       "RandomForestClassifier(max_depth=2, random_state=0)"
      ]
     },
     "execution_count": 12,
     "metadata": {},
     "output_type": "execute_result"
    }
   ],
   "source": [
    "X_train_3, X_test_3, y_train_3, y_test_3 =  train_test_split(X.astype('int'),y_2, test_size=0.20, random_state=1)\n",
    "\n",
    "model3 = RandomForestClassifier(max_depth=2, random_state=0)\n",
    "model3.fit(X_train_3, y_train_3)"
   ]
  },
  {
   "cell_type": "code",
   "execution_count": 21,
   "metadata": {},
   "outputs": [],
   "source": [
    "model_s3 = accuracy_score(model3.predict(X_test_3), y_test_3)"
   ]
  },
  {
   "cell_type": "markdown",
   "metadata": {},
   "source": [
    "The result was expected, because categorical values have range."
   ]
  },
  {
   "cell_type": "markdown",
   "metadata": {},
   "source": [
    "#### Model 4\n",
    "Fouth model is Random Forest Classifier. Here is used categorical house_price_index where -inf to 0 is **0**, from 0 to 10 is **1** and from 10 to inf is **2**. However, all categories are categorical because were rounded and converted to int values and then converter using get_dummies.\n",
    "\n",
    "So model predicts range, where could be house_price_index value. \n",
    "\n",
    "Validation data is **20%**"
   ]
  },
  {
   "cell_type": "code",
   "execution_count": 14,
   "metadata": {},
   "outputs": [
    {
     "data": {
      "text/plain": [
       "RandomForestClassifier(random_state=0)"
      ]
     },
     "execution_count": 14,
     "metadata": {},
     "output_type": "execute_result"
    }
   ],
   "source": [
    "X_train_4, X_test_4, y_train_4, y_test_4 =  train_test_split(pd.get_dummies(data=X.round(0).astype('int'), columns=categories[1:]),y_2, test_size=0.20, random_state=1)\n",
    "\n",
    "model4 = RandomForestClassifier(random_state=0)\n",
    "model4.fit(X_train_4, y_train_4)"
   ]
  },
  {
   "cell_type": "code",
   "execution_count": 20,
   "metadata": {},
   "outputs": [],
   "source": [
    "model_s4 = accuracy_score(model4.predict(X_test_4), y_test_4)"
   ]
  },
  {
   "cell_type": "markdown",
   "metadata": {},
   "source": [
    "#### DEMO\n",
    "\n",
    "\n",
    "Here is demo to predict 2018 year house price index in Estonia  range with best model - model 3"
   ]
  },
  {
   "cell_type": "code",
   "execution_count": 16,
   "metadata": {},
   "outputs": [
    {
     "data": {
      "text/plain": [
       "['population_by_education',\n",
       " 'resource_productivity',\n",
       " 'taxes_revenues',\n",
       " 'income',\n",
       " 'e_tech',\n",
       " 'human_science',\n",
       " 'crime_area',\n",
       " 'broadband_households',\n",
       " 'unemployment']"
      ]
     },
     "execution_count": 16,
     "metadata": {},
     "output_type": "execute_result"
    }
   ],
   "source": [
    "categories[1:]"
   ]
  },
  {
   "cell_type": "code",
   "execution_count": 17,
   "metadata": {},
   "outputs": [],
   "source": [
    "pupulation_by_education = 1\n",
    "resouce_productivity =  1\n",
    "taxes_revenues = 1\n",
    "income = 1\n",
    "e_tech = 1\n",
    "human_science = 1\n",
    "crime_area = 0\n",
    "broadband_households = 1\n",
    "unemployment = 1\n",
    "\n",
    "demo =  pd.DataFrame(np.array([[pupulation_by_education, resouce_productivity, taxes_revenues, income, e_tech, human_science, crime_area, broadband_households, unemployment ]]),columns=categories[1:])"
   ]
  },
  {
   "cell_type": "code",
   "execution_count": 18,
   "metadata": {},
   "outputs": [
    {
     "data": {
      "text/plain": [
       "array([1])"
      ]
     },
     "execution_count": 18,
     "metadata": {},
     "output_type": "execute_result"
    }
   ],
   "source": [
    "model3.predict(demo)"
   ]
  },
  {
   "cell_type": "markdown",
   "metadata": {},
   "source": [
    "The result has shown 1 => it means growth in range from 0 to 10 was in 2018 in Estonia"
   ]
  },
  {
   "cell_type": "markdown",
   "metadata": {},
   "source": [
    "#### Results\n",
    "Best model was model 3"
   ]
  },
  {
   "cell_type": "code",
   "execution_count": 27,
   "metadata": {},
   "outputs": [
    {
     "data": {
      "image/png": "[encoded data removed]",
      "text/plain": [
       "<Figure size 432x288 with 1 Axes>"
      ]
     },
     "metadata": {
      "needs_background": "light"
     },
     "output_type": "display_data"
    }
   ],
   "source": [
    "fig, ax = plt.subplots()\n",
    "x = np.arange(4)\n",
    "plt.bar(x, [model_s1, model_s2, model_s3, model_s4])\n",
    "plt.xticks(x, ('Model 1', 'Model 2', 'Model 3', 'Model 4'))\n",
    "plt.show()"
   ]
  },
  {
   "cell_type": "code",
   "execution_count": null,
   "metadata": {},
   "outputs": [],
   "source": []
  }
 ],
 "metadata": {
  "kernelspec": {
   "display_name": "Python 3",
   "language": "python",
   "name": "python3"
  },
  "language_info": {
   "codemirror_mode": {
    "name": "ipython",
    "version": 3
   },
   "file_extension": ".py",
   "mimetype": "text/x-python",
   "name": "python",
   "nbconvert_exporter": "python",
   "pygments_lexer": "ipython3",
   "version": "3.8.6"
  }
 },
 "nbformat": 4,
 "nbformat_minor": 4
}
